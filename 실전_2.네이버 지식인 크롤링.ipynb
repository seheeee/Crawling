{
 "cells": [
  {
   "cell_type": "markdown",
   "id": "fc896ad5",
   "metadata": {},
   "source": [
    "# 실전크롤링 - 2. 네이버 지식인 크롤링\n",
    "- 지식in 내 제목, 링크, 날짜, 카테고리, 답변수(숫자만) 크롤링\n",
    "- 특이한 선택자 case (class명에 특수문자, 띄어쓰기가 포함된 경우)\n",
    "    - 클래스명 사이에 띄어쓰기가 있는 경우 : 공백 기준 여러 클래스명이 결합한 것임\n",
    "        - 각각 따로 찾아도 되고, 같이 사용하고 싶은 경우 공백을 '.'으로 연결\n",
    "    - 클래스명에 특수문자가 있는 경우 : 해당 특수문자 앞에 '\\\\'로 escape 문법 적용\n",
    "- 사용자입력 처리"
   ]
  },
  {
   "cell_type": "markdown",
   "id": "1501b481",
   "metadata": {},
   "source": [
    "## 1) 1페이지 첫번째 질문 크롤링"
   ]
  },
  {
   "cell_type": "code",
   "execution_count": null,
   "id": "775701a9",
   "metadata": {},
   "outputs": [
    {
     "data": {
      "text/plain": [
       "'14'"
      ]
     },
     "execution_count": 36,
     "metadata": {},
     "output_type": "execute_result"
    }
   ],
   "source": [
    "import requests\n",
    "from bs4 import BeautifulSoup\n",
    "\n",
    "url = 'https://kin.naver.com/search/list.naver?query=%EC%82%BC%EC%84%B1%EC%A0%84%EC%9E%90' #삼성전자 검색\n",
    "\n",
    "response = requests.get(url)\n",
    "html = response.text\n",
    "soup = BeautifulSoup(html, 'html.parser')\n",
    "\n",
    "title = soup.select_one('._nclicks\\\\:kin\\\\.txt').text\n",
    "link = soup.select_one('.basic1 a').attrs['href'] #바로 뒤에 오는 태그는 >, 뒤 아무곳이나 오는 태그는 ' '\n",
    "ddate = soup.select_one('.txt_inline').text\n",
    "category = soup.select_one('.txt_g1._nclicks\\\\:kin\\\\.cat2').text #방법1\n",
    "category = soup.select_one('.txt_block > a:nth-of-type(2)').text #방법2\n",
    "answer = soup.select_one('.hit').text.split(' ')[1] #숫자만 추출 #방법1\n",
    "\n"
   ]
  },
  {
   "cell_type": "markdown",
   "id": "76f861c8",
   "metadata": {},
   "source": [
    "## 2) 1페이지 10개 질문 크롤링\n",
    "- 크롤링은 '비로그인 상태'로 크롤링하기 때문에 로그인 상태와 크롤링 결과가 다를 수 있음"
   ]
  },
  {
   "cell_type": "code",
   "execution_count": null,
   "id": "5a676e68",
   "metadata": {},
   "outputs": [
    {
     "name": "stdout",
     "output_type": "stream",
     "text": [
      "삼성전자 주식 https://kin.naver.com/qna/detail.naver?d1id=4&dirId=40102&docId=487572786&qb=7IK87ISx7KCE7J6Q&enc=utf8 2025.07.30. 주식, 증권 14\n",
      "--------------\n",
      "삼성전자 에어컨 청소 https://kin.naver.com/qna/detail.naver?d1id=5&dirId=50104&docId=487926458&qb=7IK87ISx7KCE7J6Q&enc=utf8 2025.08.11. 청소, 주방, 계절 가전 9\n",
      "--------------\n",
      "삼성전자 주가 전망 https://kin.naver.com/qna/detail.naver?d1id=4&dirId=40102&docId=429328715&qb=7IK87ISx7KCE7J6Q&enc=utf8 2025.07.30. 주식, 증권 4\n",
      "--------------\n",
      "삼성전자에 벤큐 모니터 파나요 https://kin.naver.com/qna/detail.naver?d1id=1&dirId=1010401&docId=488053141&qb=7IK87ISx7KCE7J6Q&enc=utf8 2025.08.16. 모니터 4\n",
      "--------------\n",
      "삼성전자대리점에서 소비쿠폰을 사용할...  https://kin.naver.com/qna/detail.naver?d1id=5&dirId=50104&docId=487725447&qb=7IK87ISx7KCE7J6Q&enc=utf8 2025.08.06. 청소, 주방, 계절 가전 2\n",
      "--------------\n",
      "삼성전자 상간녀소송중인데요. 상간녀가 https://kin.naver.com/qna/detail.naver?d1id=6&dirId=60204&docId=302160869&qb=7IK87ISx7KCE7J6Q&enc=utf8 2025.05.27. 가족, 이혼 3\n",
      "--------------\n",
      "삼성전자서비스센터 USB 복구, 수리 가능? https://kin.naver.com/qna/detail.naver?d1id=1&dirId=1010405&docId=487102132&qb=7IK87ISx7KCE7J6Q&enc=utf8 2025.07.15. 외장하드, 저장장치 4\n",
      "--------------\n",
      "삼성전자 5급 채용 https://kin.naver.com/qna/detail.naver?d1id=4&dirId=40609&docId=477072423&qb=7IK87ISx7KCE7J6Q&enc=utf8 2024.11.13. 생산, 기술 3\n",
      "--------------\n",
      "삼성전자 8월 주가 전망은? https://kin.naver.com/qna/detail.naver?d1id=11&dirId=1118&docId=487660407&qb=7IK87ISx7KCE7J6Q&enc=utf8 2025.08.02. 전기, 전자 공학 19\n",
      "--------------\n",
      "삼성전자 5급제조직 생산 체용 https://kin.naver.com/qna/detail.naver?d1id=11&dirId=1118&docId=487813076&qb=7IK87ISx7KCE7J6Q&enc=utf8 2025.08.08. 전기, 전자 공학 1\n",
      "--------------\n"
     ]
    }
   ],
   "source": [
    "import requests\n",
    "from bs4 import BeautifulSoup\n",
    "\n",
    "url = 'https://kin.naver.com/search/list.naver?query=%EC%82%BC%EC%84%B1%EC%A0%84%EC%9E%90' #삼성전자 검색\n",
    "\n",
    "response = requests.get(url)\n",
    "html = response.text\n",
    "soup = BeautifulSoup(html, 'html.parser')\n",
    "\n",
    "tags = soup.select('.basic1 > li') #나무태그 찾기\n",
    "for tag in tags:\n",
    "    title = tag.select_one('._nclicks\\\\:kin\\\\.txt').text\n",
    "    link = tag.select_one('.basic1 a').attrs['href']\n",
    "    ddate = tag.select_one('.txt_inline').text\n",
    "    category = tag.select_one('.txt_g1._nclicks\\\\:kin\\\\.cat2').text\n",
    "    answer = tag.select_one('.hit').text.split(' ')[1]\n",
    "\n",
    "    print(title, link, ddate, category, answer)\n",
    "    print('--------------')\n",
    "    "
   ]
  },
  {
   "cell_type": "markdown",
   "id": "dc4a74f4",
   "metadata": {},
   "source": [
    "## 3) N페이지까지 크롤링(사용자 입력)"
   ]
  },
  {
   "cell_type": "code",
   "execution_count": 14,
   "id": "ebf7244d",
   "metadata": {},
   "outputs": [],
   "source": [
    "import requests\n",
    "from bs4 import BeautifulSoup\n",
    "import pandas as pd\n",
    "\n",
    "cnt = input(\"크롤링할 페이지 수를 입력해주세요.\")\n",
    "data = []\n",
    "\n",
    "for i in range(1, int(cnt)+1):\n",
    "    url = 'https://kin.naver.com/search/list.naver?query=%EC%82%BC%EC%84%B1%EC%A0%84%EC%9E%90' + f'&page={str(i)}' #삼성전자 검색\n",
    "    response = requests.get(url)\n",
    "    html = response.text\n",
    "    soup = BeautifulSoup(html, 'html.parser')\n",
    "\n",
    "    tags = soup.select('.basic1 > li') #나무태그 찾기\n",
    "    for tag in tags:\n",
    "        title = tag.select_one('._nclicks\\\\:kin\\\\.txt').text\n",
    "        link = tag.select_one('.basic1 a').attrs['href']\n",
    "        ddate = tag.select_one('.txt_inline').text\n",
    "        category = tag.select_one('.txt_g1._nclicks\\\\:kin\\\\.cat2').text\n",
    "        answer = tag.select_one('.hit').text.split(' ')[1]\n",
    "\n",
    "        data.append([title, link, ddate, category, int(answer)])\n",
    "\n",
    "df = pd.DataFrame(data, columns=['title', 'link', 'ddate', 'category', 'answer'])\n",
    "df.to_excel(f'C:/Users/qawse/세희/IT공부/크롤링_inflearn/naver_지식in_crawling.xlsx', index=None)       "
   ]
  },
  {
   "cell_type": "code",
   "execution_count": 3,
   "id": "c518b07c",
   "metadata": {},
   "outputs": [],
   "source": [
    "import requests\n",
    "from bs4 import BeautifulSoup\n",
    "from urllib.parse import quote\n",
    "\n",
    "input_keyword ='주식'\n",
    "input_page='2'\n",
    "for i in range(1, int(input_page)+1):\n",
    "    response = requests.get(f\"https://kin.naver.com/search/list.naver?query={quote(input_keyword)}&page={i}\")\n",
    "    html = response.text\n",
    "    soup = BeautifulSoup(html, 'html.parser')\n",
    "    tags = soup.select('.basic1 > li') #나무태그 찾기\n",
    "\n",
    "for tag in tags:\n",
    "    title = tag.select_one('._nclicks\\\\:kin\\\\.txt').text\n",
    "    link = tag.select_one('.basic1 a').attrs['href']\n",
    "    ddate = tag.select_one('.txt_inline').text\n",
    "    category = tag.select_one('.txt_g1._nclicks\\\\:kin\\\\.cat2').text\n",
    "    answer = tag.select_one('.hit').text.split(' ')[1]"
   ]
  }
 ],
 "metadata": {
  "kernelspec": {
   "display_name": "myenv",
   "language": "python",
   "name": "python3"
  },
  "language_info": {
   "codemirror_mode": {
    "name": "ipython",
    "version": 3
   },
   "file_extension": ".py",
   "mimetype": "text/x-python",
   "name": "python",
   "nbconvert_exporter": "python",
   "pygments_lexer": "ipython3",
   "version": "3.12.8"
  }
 },
 "nbformat": 4,
 "nbformat_minor": 5
}
