{
 "cells": [
  {
   "cell_type": "markdown",
   "id": "fc896ad5",
   "metadata": {},
   "source": [
    "# 실전크롤링 - 5. 네이버 카페 크롤링\n",
    "- 제목, 상세페이지 링크"
   ]
  },
  {
   "cell_type": "markdown",
   "id": "fd0d6f7e",
   "metadata": {},
   "source": [
    "# 1) 게시판 클릭 & 50개씩 표시"
   ]
  },
  {
   "cell_type": "code",
   "execution_count": 4,
   "id": "862c4f5c",
   "metadata": {},
   "outputs": [],
   "source": [
    "from selenium import webdriver\n",
    "from selenium.webdriver.common.by import By\n",
    "\n",
    "driver = webdriver.Chrome()\n",
    "driver.get('https://cafe.naver.com/startcodingofficial')\n",
    "\n",
    "menu = driver.find_element(By.CSS_SELECTOR, '#menuLink15')\n",
    "menu.click()\n"
   ]
  },
  {
   "cell_type": "code",
   "execution_count": 5,
   "id": "9d3cfb02",
   "metadata": {},
   "outputs": [],
   "source": [
    "\n",
    "#(오류) ElementNotInteractableException : 태그가 안보여서 클릭할 수 없음\n",
    "# cnt_50 = driver.find_element(By.CSS_SELECTOR, '#cafe_content > div.BoardTopOption > div > div.FormSelectBox > div.select_option > ul > li:nth-child(7) > button > span.option_text')\n",
    "# cnt_50.click()\n",
    "\n",
    "# (해결1) 태그를 보이게 한 후, 클릭 \n",
    "cnt = driver.find_element(By.CSS_SELECTOR, '#cafe_content > div.BoardTopOption > div > div.FormSelectBox > div > button')\n",
    "cnt.click()\n",
    "cnt_50 = driver.find_element(By.CSS_SELECTOR, '#cafe_content > div.BoardTopOption > div > div.FormSelectBox > div.select_option > ul > li:nth-child(7) > button > span.option_text')\n",
    "cnt_50.click()"
   ]
  },
  {
   "cell_type": "code",
   "execution_count": null,
   "id": "40db5d2d",
   "metadata": {},
   "outputs": [
    {
     "ename": "NoSuchElementException",
     "evalue": "Message: no such element: Unable to locate element: {\"method\":\"css selector\",\"selector\":\"#cafe_content > div.BoardTopOption > div > div.FormSelectBox > div.select_option > ul > li:nth-child(7) > button > span.option_text\"}\n  (Session info: chrome=139.0.7258.140); For documentation on this error, please visit: https://www.selenium.dev/documentation/webdriver/troubleshooting/errors#no-such-element-exception\nStacktrace:\n\tGetHandleVerifier [0x0x7ff69a4e3d85+79397]\n\tGetHandleVerifier [0x0x7ff69a4e3de0+79488]\n\t(No symbol) [0x0x7ff69a28c0fa]\n\t(No symbol) [0x0x7ff69a2e2fd6]\n\t(No symbol) [0x0x7ff69a2e328c]\n\t(No symbol) [0x0x7ff69a336537]\n\t(No symbol) [0x0x7ff69a30b1df]\n\t(No symbol) [0x0x7ff69a333344]\n\t(No symbol) [0x0x7ff69a30af73]\n\t(No symbol) [0x0x7ff69a2d41b1]\n\t(No symbol) [0x0x7ff69a2d4f43]\n\tGetHandleVerifier [0x0x7ff69a7ae1ed+3005069]\n\tGetHandleVerifier [0x0x7ff69a7a831d+2980797]\n\tGetHandleVerifier [0x0x7ff69a7c7e0d+3110573]\n\tGetHandleVerifier [0x0x7ff69a4fd6de+184190]\n\tGetHandleVerifier [0x0x7ff69a50516f+215567]\n\tGetHandleVerifier [0x0x7ff69a4ec974+115220]\n\tGetHandleVerifier [0x0x7ff69a4ecb29+115657]\n\tGetHandleVerifier [0x0x7ff69a4d3268+11016]\n\tBaseThreadInitThunk [0x0x7ffc6b58e8d7+23]\n\tRtlUserThreadStart [0x0x7ffc6c71c34c+44]\n",
     "output_type": "error",
     "traceback": [
      "\u001b[1;31m---------------------------------------------------------------------------\u001b[0m",
      "\u001b[1;31mNoSuchElementException\u001b[0m                    Traceback (most recent call last)",
      "Cell \u001b[1;32mIn[3], line 3\u001b[0m\n\u001b[0;32m      1\u001b[0m \u001b[38;5;66;03m# (해결2, 중요) JavaScript를 사용하여 태그 클릭\u001b[39;00m\n\u001b[0;32m      2\u001b[0m \u001b[38;5;66;03m# StableElementReferenceException : 페이지 갱신으로 태그가 유효하지 않음\u001b[39;00m\n\u001b[1;32m----> 3\u001b[0m cnt_50 \u001b[38;5;241m=\u001b[39m \u001b[43mdriver\u001b[49m\u001b[38;5;241;43m.\u001b[39;49m\u001b[43mfind_element\u001b[49m\u001b[43m(\u001b[49m\u001b[43mBy\u001b[49m\u001b[38;5;241;43m.\u001b[39;49m\u001b[43mCSS_SELECTOR\u001b[49m\u001b[43m,\u001b[49m\u001b[43m \u001b[49m\u001b[38;5;124;43m'\u001b[39;49m\u001b[38;5;124;43m#cafe_content > div.BoardTopOption > div > div.FormSelectBox > div.select_option > ul > li:nth-child(7) > button > span.option_text\u001b[39;49m\u001b[38;5;124;43m'\u001b[39;49m\u001b[43m)\u001b[49m\n\u001b[0;32m      5\u001b[0m driver\u001b[38;5;241m.\u001b[39mexecute_script(\u001b[38;5;124m\"\u001b[39m\u001b[38;5;124marguments[0].click()\u001b[39m\u001b[38;5;124m\"\u001b[39m, cnt_50) \u001b[38;5;66;03m#cnt_50이 index 0자리에 들어가서 클릭 실행\u001b[39;00m\n",
      "File \u001b[1;32mc:\\Users\\qawse\\AppData\\Local\\Programs\\Python\\Python311\\Lib\\site-packages\\selenium\\webdriver\\remote\\webdriver.py:741\u001b[0m, in \u001b[0;36mWebDriver.find_element\u001b[1;34m(self, by, value)\u001b[0m\n\u001b[0;32m    738\u001b[0m     by \u001b[38;5;241m=\u001b[39m By\u001b[38;5;241m.\u001b[39mCSS_SELECTOR\n\u001b[0;32m    739\u001b[0m     value \u001b[38;5;241m=\u001b[39m \u001b[38;5;124mf\u001b[39m\u001b[38;5;124m'\u001b[39m\u001b[38;5;124m[name=\u001b[39m\u001b[38;5;124m\"\u001b[39m\u001b[38;5;132;01m{\u001b[39;00mvalue\u001b[38;5;132;01m}\u001b[39;00m\u001b[38;5;124m\"\u001b[39m\u001b[38;5;124m]\u001b[39m\u001b[38;5;124m'\u001b[39m\n\u001b[1;32m--> 741\u001b[0m \u001b[38;5;28;01mreturn\u001b[39;00m \u001b[38;5;28;43mself\u001b[39;49m\u001b[38;5;241;43m.\u001b[39;49m\u001b[43mexecute\u001b[49m\u001b[43m(\u001b[49m\u001b[43mCommand\u001b[49m\u001b[38;5;241;43m.\u001b[39;49m\u001b[43mFIND_ELEMENT\u001b[49m\u001b[43m,\u001b[49m\u001b[43m \u001b[49m\u001b[43m{\u001b[49m\u001b[38;5;124;43m\"\u001b[39;49m\u001b[38;5;124;43musing\u001b[39;49m\u001b[38;5;124;43m\"\u001b[39;49m\u001b[43m:\u001b[49m\u001b[43m \u001b[49m\u001b[43mby\u001b[49m\u001b[43m,\u001b[49m\u001b[43m \u001b[49m\u001b[38;5;124;43m\"\u001b[39;49m\u001b[38;5;124;43mvalue\u001b[39;49m\u001b[38;5;124;43m\"\u001b[39;49m\u001b[43m:\u001b[49m\u001b[43m \u001b[49m\u001b[43mvalue\u001b[49m\u001b[43m}\u001b[49m\u001b[43m)\u001b[49m[\u001b[38;5;124m\"\u001b[39m\u001b[38;5;124mvalue\u001b[39m\u001b[38;5;124m\"\u001b[39m]\n",
      "File \u001b[1;32mc:\\Users\\qawse\\AppData\\Local\\Programs\\Python\\Python311\\Lib\\site-packages\\selenium\\webdriver\\remote\\webdriver.py:347\u001b[0m, in \u001b[0;36mWebDriver.execute\u001b[1;34m(self, driver_command, params)\u001b[0m\n\u001b[0;32m    345\u001b[0m response \u001b[38;5;241m=\u001b[39m \u001b[38;5;28mself\u001b[39m\u001b[38;5;241m.\u001b[39mcommand_executor\u001b[38;5;241m.\u001b[39mexecute(driver_command, params)\n\u001b[0;32m    346\u001b[0m \u001b[38;5;28;01mif\u001b[39;00m response:\n\u001b[1;32m--> 347\u001b[0m     \u001b[38;5;28;43mself\u001b[39;49m\u001b[38;5;241;43m.\u001b[39;49m\u001b[43merror_handler\u001b[49m\u001b[38;5;241;43m.\u001b[39;49m\u001b[43mcheck_response\u001b[49m\u001b[43m(\u001b[49m\u001b[43mresponse\u001b[49m\u001b[43m)\u001b[49m\n\u001b[0;32m    348\u001b[0m     response[\u001b[38;5;124m\"\u001b[39m\u001b[38;5;124mvalue\u001b[39m\u001b[38;5;124m\"\u001b[39m] \u001b[38;5;241m=\u001b[39m \u001b[38;5;28mself\u001b[39m\u001b[38;5;241m.\u001b[39m_unwrap_value(response\u001b[38;5;241m.\u001b[39mget(\u001b[38;5;124m\"\u001b[39m\u001b[38;5;124mvalue\u001b[39m\u001b[38;5;124m\"\u001b[39m, \u001b[38;5;28;01mNone\u001b[39;00m))\n\u001b[0;32m    349\u001b[0m     \u001b[38;5;28;01mreturn\u001b[39;00m response\n",
      "File \u001b[1;32mc:\\Users\\qawse\\AppData\\Local\\Programs\\Python\\Python311\\Lib\\site-packages\\selenium\\webdriver\\remote\\errorhandler.py:229\u001b[0m, in \u001b[0;36mErrorHandler.check_response\u001b[1;34m(self, response)\u001b[0m\n\u001b[0;32m    227\u001b[0m         alert_text \u001b[38;5;241m=\u001b[39m value[\u001b[38;5;124m\"\u001b[39m\u001b[38;5;124malert\u001b[39m\u001b[38;5;124m\"\u001b[39m]\u001b[38;5;241m.\u001b[39mget(\u001b[38;5;124m\"\u001b[39m\u001b[38;5;124mtext\u001b[39m\u001b[38;5;124m\"\u001b[39m)\n\u001b[0;32m    228\u001b[0m     \u001b[38;5;28;01mraise\u001b[39;00m exception_class(message, screen, stacktrace, alert_text)  \u001b[38;5;66;03m# type: ignore[call-arg]  # mypy is not smart enough here\u001b[39;00m\n\u001b[1;32m--> 229\u001b[0m \u001b[38;5;28;01mraise\u001b[39;00m exception_class(message, screen, stacktrace)\n",
      "\u001b[1;31mNoSuchElementException\u001b[0m: Message: no such element: Unable to locate element: {\"method\":\"css selector\",\"selector\":\"#cafe_content > div.BoardTopOption > div > div.FormSelectBox > div.select_option > ul > li:nth-child(7) > button > span.option_text\"}\n  (Session info: chrome=139.0.7258.140); For documentation on this error, please visit: https://www.selenium.dev/documentation/webdriver/troubleshooting/errors#no-such-element-exception\nStacktrace:\n\tGetHandleVerifier [0x0x7ff69a4e3d85+79397]\n\tGetHandleVerifier [0x0x7ff69a4e3de0+79488]\n\t(No symbol) [0x0x7ff69a28c0fa]\n\t(No symbol) [0x0x7ff69a2e2fd6]\n\t(No symbol) [0x0x7ff69a2e328c]\n\t(No symbol) [0x0x7ff69a336537]\n\t(No symbol) [0x0x7ff69a30b1df]\n\t(No symbol) [0x0x7ff69a333344]\n\t(No symbol) [0x0x7ff69a30af73]\n\t(No symbol) [0x0x7ff69a2d41b1]\n\t(No symbol) [0x0x7ff69a2d4f43]\n\tGetHandleVerifier [0x0x7ff69a7ae1ed+3005069]\n\tGetHandleVerifier [0x0x7ff69a7a831d+2980797]\n\tGetHandleVerifier [0x0x7ff69a7c7e0d+3110573]\n\tGetHandleVerifier [0x0x7ff69a4fd6de+184190]\n\tGetHandleVerifier [0x0x7ff69a50516f+215567]\n\tGetHandleVerifier [0x0x7ff69a4ec974+115220]\n\tGetHandleVerifier [0x0x7ff69a4ecb29+115657]\n\tGetHandleVerifier [0x0x7ff69a4d3268+11016]\n\tBaseThreadInitThunk [0x0x7ffc6b58e8d7+23]\n\tRtlUserThreadStart [0x0x7ffc6c71c34c+44]\n"
     ]
    }
   ],
   "source": [
    "# (해결2, 중요) JavaScript를 사용하여 태그 클릭\n",
    "# StableElementReferenceException : 페이지 갱신으로 태그가 유효하지 않음\n",
    "cnt_50 = driver.find_element(By.CSS_SELECTOR, '#cafe_content > div.BoardTopOption > div > div.FormSelectBox > div.select_option > ul > li:nth-child(7) > button > span.option_text')\n",
    "driver.execute_script(\"arguments[0].click()\", cnt_50) #cnt_50이 index 0자리에 들어가서 클릭 실행"
   ]
  },
  {
   "cell_type": "markdown",
   "id": "0ee97639",
   "metadata": {},
   "source": [
    "# 2) 제목, 링크 추출\n",
    "- not() 선택자 사용해보기\n",
    "- (중요) 위에 공지내용들은 제외하기\n"
   ]
  },
  {
   "cell_type": "code",
   "execution_count": null,
   "id": "488f6404",
   "metadata": {},
   "outputs": [
    {
     "data": {
      "text/plain": [
       "'[2년만에 월 2천만원 수익 인증] 대기업(삼성) 메인강사가 직접 알려주는 코딩 정복! (후기 작성시: 초고속 파이썬 정복PDF 무료 증정)'"
      ]
     },
     "execution_count": 11,
     "metadata": {},
     "output_type": "execute_result"
    }
   ],
   "source": [
    "import requests\n",
    "from bs4 import BeautifulSoup\n",
    "\n",
    "#html 추출\n",
    "html = driver.page_source\n",
    "soup = BeautifulSoup(html, 'html.parser')\n",
    "titles = soup.select_one('.article:not()').text\n",
    "titles"
   ]
  }
 ],
 "metadata": {
  "kernelspec": {
   "display_name": "Python 3",
   "language": "python",
   "name": "python3"
  },
  "language_info": {
   "codemirror_mode": {
    "name": "ipython",
    "version": 3
   },
   "file_extension": ".py",
   "mimetype": "text/x-python",
   "name": "python",
   "nbconvert_exporter": "python",
   "pygments_lexer": "ipython3",
   "version": "3.11.7"
  }
 },
 "nbformat": 4,
 "nbformat_minor": 5
}
