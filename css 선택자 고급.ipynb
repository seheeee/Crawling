{
 "cells": [
  {
   "cell_type": "markdown",
   "id": "2d2a57a2",
   "metadata": {},
   "source": [
    "# 0. 강의노트\n",
    "* https://flukeout.github.io/\n",
    "* https://startcoding.pythonanywhere.com/basic\n",
    "\n",
    "# 0. 기본개념\n",
    "* HTML 기본 단위: 태그 (Element)\n",
    " - <div> ... </div> , <input ...>, <label ...> 같은 것들이 **요소(Element)**예요.\n",
    "* 속성 (Attribute)\n",
    "태그 안에 들어있는 class=\"...\", id=\"...\", for=\"...\" 같은 부분이 속성입니다.\n",
    "3. 선택자 (Selector)\n",
    "CSS에서 어떤 요소에 스타일을 줄지 선택할 때 사용합니다.\n",
    "div { } → 모든 <div>에 적용\n",
    ".input-checkbox { } → class가 input-checkbox인 요소에만 적용\n",
    "#category-3 { } → id가 category-3인 요소에만 적용"
   ]
  },
  {
   "cell_type": "markdown",
   "id": "b211f456",
   "metadata": {},
   "source": [
    "# 1. CSS 선택자 (고급)\n",
    "\n",
    "## 1) 형제들 중에 선택하기, Q13\n",
    "* 인접 형제 선택자(a+b) > A 요소 \"바로 뒤\"에 나오는 첫 번째 B 요소 선택\n",
    "* 일반 형제 선택자(a~b) > A 요소 뒤에 나오는 \"모든\" B 요소 선택\n",
    "\n",
    "## 2) (중요) N번째 태그만 선택, Q21,22\n",
    "* :nth-of-type() > 특정 type(태그, =같은부모)의 특정 순서에 해당하는 요소 선택\n",
    "ex. div.main > a:nthe-oftype(3)\n",
    "ex. div.main > a:nthe-oftype(even) #짝수\n",
    "ex. div.main > a:nthe-oftype(odd) #홀수\n",
    "ex. .product-body > div:nth-of-type(1)\n",
    "\n",
    "## 3) (중요) 선택에서 제외시키기, Q26,22\n",
    "* :not(X) 선택자 > 특정 선택자(X)를 제외하고 선택\n",
    "ex. a:not(#fancy)\n",
    "ex. apple:not(.small)\n",
    "\n",
    "## 4) 속성 선택자\n",
    "* [속성=\"값\"] : 일치\n",
    "* [속성^=\"값\"] : 시작\n",
    "* [속성$=\"값\"] : 종료\n",
    "* [속성*=\"값\"] : 포함함\n",
    " \n",
    "\n"
   ]
  },
  {
   "cell_type": "markdown",
   "id": "ceb4cbdb",
   "metadata": {},
   "source": [
    "# 2. 특정 텍스트를 포함하는 태그찾기\n",
    "\n",
    "## 1) find, find_all 명령어\n",
    "cf) select, select_one과 비교 : '선택자'만 사용가능, 텍스트 찾기X\n",
    "* 일치 태그 하나 > soup.find('태그 이름', string='텍스트')\n",
    "* 일치 태그 전부 > soup.find_all('태그 이름', string='텍스트')\n",
    "\n",
    "## 2) find, find_all 명령어 : 정규표현식 사용\n",
    "* 포함 태그 하나 > soup.find('태그 이름', string=re.complie('텍스트'))\n",
    "* 포함 태그 전부 > soup.find_all('태그 이름', string=re.complie('텍스트')) : ^(시작), $(종료)\n"
   ]
  },
  {
   "cell_type": "code",
   "execution_count": 3,
   "id": "fa56ecc1",
   "metadata": {},
   "outputs": [
    {
     "name": "stdout",
     "output_type": "stream",
     "text": [
      "[<h4 class=\"product-price\">1,419,000원\n",
      "\t\t\t\t\t\t\t\t\t\t\n",
      "\t\t\t\t\t\t\t\t\t</h4>, <h4 class=\"product-price\">549,000원\n",
      "\t\t\t\t\t\t\t\t\t\t\n",
      "\t\t\t\t\t\t\t\t\t</h4>, <h4 class=\"product-price\">529,000원\n",
      "\t\t\t\t\t\t\t\t\t\t\n",
      "\t\t\t\t\t\t\t\t\t</h4>, <h4 class=\"product-price\">624,000원\n",
      "\t\t\t\t\t\t\t\t\t\t\n",
      "\t\t\t\t\t\t\t\t\t\t<del class=\"product-old-price\">649,000</del>\n",
      "</h4>, <h4 class=\"product-price\">1,135,000원\n",
      "\t\t\t\t\t\t\t\t\t\t\n",
      "\t\t\t\t\t\t\t\t\t</h4>, <h4 class=\"product-price\">398,000원\n",
      "\t\t\t\t\t\t\t\t\t\t\n",
      "\t\t\t\t\t\t\t\t\t</h4>, <h4 class=\"product-price\">899,000원\n",
      "\t\t\t\t\t\t\t\t\t\t\n",
      "\t\t\t\t\t\t\t\t\t\t<del class=\"product-old-price\">1,099,000</del>\n",
      "</h4>, <h4 class=\"product-price\">929,000원\n",
      "\t\t\t\t\t\t\t\t\t\t\n",
      "\t\t\t\t\t\t\t\t\t</h4>, <h4 class=\"product-price\">1,008,000원\n",
      "\t\t\t\t\t\t\t\t\t\t\n",
      "\t\t\t\t\t\t\t\t\t</h4>, <h4 class=\"product-price\">1,149,000원\n",
      "\t\t\t\t\t\t\t\t\t\t\n",
      "\t\t\t\t\t\t\t\t\t</h4>]\n"
     ]
    }
   ],
   "source": [
    "import requests\n",
    "from bs4 import BeautifulSoup\n",
    "\n",
    "response = requests.get(\"https://startcoding.pythonanywhere.com/basic\")\n",
    "html = response.text\n",
    "soup = BeautifulSoup(html, 'html.parser')\n",
    "\n",
    "#일치 1개\n",
    "soup.find('p', string='노트북')\n",
    "#일치 전부\n",
    "soup.find_all('p', string='노트북')\n",
    "\n",
    "import re\n",
    "#포함 1개\n",
    "soup.find('a', string=re.compile('그레이'))\n",
    "#포함 전부\n",
    "soup.find_all('a', string=re.compile('그레이'))\n",
    "#시작 전부\n",
    "soup.find_all('a', string = re.compile('^삼성전자'))\n",
    "\n",
    "#종료 전부\n",
    "soup.find_all('h4', string = re.compile('원')) #2개가 누락됨 (요소 내부에 다른 태그가 있을 경우, 문자열 매칭이 제대로 동작하지 않음)\n",
    "# (심화) 해결\n",
    "result=[]\n",
    "tags = soup.select('.product-price')\n",
    "for tag in tags:\n",
    "    if '원' in tag.text:\n",
    "        result.append(tag)\n",
    "# print(result)\n",
    "\n",
    "# (심화) del 없이 가격만 추출\n",
    "result2=[]\n",
    "for tag in tags:\n",
    "    # print(tag.contents) #tag의 내용들을 리스트로 정리하여 나열 > 원하는 가격은 각 리스트의 1번째 원소\n",
    "    if '원' in tag.contents[0]:\n",
    "        result2.append(tag)\n",
    "print(result2)"
   ]
  }
 ],
 "metadata": {
  "kernelspec": {
   "display_name": "myenv",
   "language": "python",
   "name": "python3"
  },
  "language_info": {
   "codemirror_mode": {
    "name": "ipython",
    "version": 3
   },
   "file_extension": ".py",
   "mimetype": "text/x-python",
   "name": "python",
   "nbconvert_exporter": "python",
   "pygments_lexer": "ipython3",
   "version": "3.12.8"
  }
 },
 "nbformat": 4,
 "nbformat_minor": 5
}
