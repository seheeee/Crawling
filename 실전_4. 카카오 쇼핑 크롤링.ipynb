{
 "cells": [
  {
   "cell_type": "markdown",
   "id": "fc896ad5",
   "metadata": {},
   "source": [
    "# 실전크롤링 - 4. 카카오 쇼핑 톡딜 크롤링\n",
    "- 상품평, 상세페이지 링크, 판매가격, 판매처, 배송정보를 엑셀로 정리\n",
    "- 5번만 스크롤하여 총 300개 상품내역 가져오기"
   ]
  },
  {
   "cell_type": "markdown",
   "id": "fd0d6f7e",
   "metadata": {},
   "source": [
    "# 1) 정적 vs. 동적 구분\n",
    "- 동적 페이지임"
   ]
  },
  {
   "cell_type": "code",
   "execution_count": 41,
   "id": "862c4f5c",
   "metadata": {},
   "outputs": [],
   "source": [
    "from selenium import webdriver\n",
    "\n",
    "driver = webdriver.Chrome()\n",
    "driver.get('https://shoppinghow.kakao.com/siso/p/sale/mall/talkstore')"
   ]
  },
  {
   "cell_type": "markdown",
   "id": "0ee97639",
   "metadata": {},
   "source": [
    "# 2) 5번 스크롤 내리기"
   ]
  },
  {
   "cell_type": "code",
   "execution_count": 42,
   "id": "488f6404",
   "metadata": {},
   "outputs": [],
   "source": [
    "import time\n",
    "for i in range(5):\n",
    "    driver.execute_script(\"window.scrollTo(0,document.body.scrollHeight)\")\n",
    "    time.sleep(1)"
   ]
  },
  {
   "cell_type": "markdown",
   "id": "544a0ac1",
   "metadata": {},
   "source": [
    "# 3) 크롤링"
   ]
  },
  {
   "cell_type": "code",
   "execution_count": 43,
   "id": "b0d5419c",
   "metadata": {},
   "outputs": [],
   "source": [
    "from bs4 import BeautifulSoup\n",
    "\n",
    "#html 추출\n",
    "html = driver.page_source\n",
    "soup = BeautifulSoup(html, 'html.parser') \n",
    "\n",
    "# 크롤링\n",
    "tags = soup.select('.list_spsale.__tiara_container_ > li')  #태그 안에 공백 존재\n",
    "\n",
    "output = []\n",
    "for tag in tags:\n",
    "    name = tag.select_one('.info_name').text\n",
    "    link = 'https://shoppinghow.kakao.com' + tag.select_one('.link_product').attrs['href'] #링크찾기? #프로토콜, 도메인추가\n",
    "    price = tag.select_one('.info_sales').text.replace(',','').replace('원','') #숫자만 남기기\n",
    "    price = int(price)\n",
    "    store = tag.select_one('.txt_shop').text\n",
    "    dilivery = tag.select_one('.info_etc').contents[-1]  #(주의) 상위 클래스에 속해있음\n",
    "    output.append([name, link, price, store, dilivery])\n",
    "\n",
    "import pandas as pd\n",
    "df = pd.DataFrame(data=output, columns=['name', 'link','price', 'store', 'dilivery'])\n",
    "df.to_excel('kakao_shopping.xlsx', index=False)"
   ]
  }
 ],
 "metadata": {
  "kernelspec": {
   "display_name": "myenv",
   "language": "python",
   "name": "python3"
  },
  "language_info": {
   "codemirror_mode": {
    "name": "ipython",
    "version": 3
   },
   "file_extension": ".py",
   "mimetype": "text/x-python",
   "name": "python",
   "nbconvert_exporter": "python",
   "pygments_lexer": "ipython3",
   "version": "3.12.8"
  }
 },
 "nbformat": 4,
 "nbformat_minor": 5
}
