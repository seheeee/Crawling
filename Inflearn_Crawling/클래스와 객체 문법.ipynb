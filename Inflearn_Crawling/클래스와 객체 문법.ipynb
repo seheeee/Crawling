{
 "cells": [
  {
   "cell_type": "markdown",
   "id": "fc896ad5",
   "metadata": {},
   "source": [
    "# 1. 클래스와 객체\n",
    "- 클래스(설계도) > 객체(제품)\n",
    "- 속성(클래스 안의 변수), 메서드(클래스안의 함수)\n",
    "- 생성자(객체를 만들 떄 실행되는 함수)"
   ]
  },
  {
   "cell_type": "markdown",
   "id": "5340e4a6",
   "metadata": {},
   "source": [
    "## 1) 클래스\n",
    "- 생성 <br>\n",
    "    - 클래스 내 함수 생성 시, 첫번째 매개변수는 self\n",
    "\n",
    "- 사용 <br>\n",
    "    - 객체 생성(할당) 후, 함수호출하여 실행\n",
    "    - 클래스는 재사용 가능 = 여러 객체 생성 가능"
   ]
  },
  {
   "cell_type": "code",
   "execution_count": null,
   "id": "820b2a37",
   "metadata": {},
   "outputs": [
    {
     "name": "stdout",
     "output_type": "stream",
     "text": [
      "나는 캐릭터다!\n"
     ]
    }
   ],
   "source": [
    "class Character:\n",
    "    def say(self): #무조건 첫번째 매개변수로는 self\n",
    "        print(\"나는 캐릭터다!\")\n",
    "\n",
    "ezreal = Character()\n",
    "ezreal.say()\n",
    "\n",
    "jarvan = Character() #재사용가능\n",
    "jarvan.say()"
   ]
  },
  {
   "cell_type": "markdown",
   "id": "07376fee",
   "metadata": {},
   "source": [
    "## 2) 생성자(\\__init__\\)\n",
    "- magic method : 특정 시점에 자동으로 실행되는 함수\n",
    "- initiation : 초기화"
   ]
  },
  {
   "cell_type": "code",
   "execution_count": null,
   "id": "91d791ff",
   "metadata": {},
   "outputs": [
    {
     "name": "stdout",
     "output_type": "stream",
     "text": [
      "객체 만들때 실행되는 함수\n"
     ]
    }
   ],
   "source": [
    "class Character:\n",
    "    def __init__(self):\n",
    "        print(\"객체 만들때 실행되는 함수\") #자동실행됨\n",
    "    def say(self):\n",
    "        print(\"나는 캐릭터다!\")\n",
    "\n",
    "ezreal = Character() #객체를 할당할 때 실행됨"
   ]
  },
  {
   "cell_type": "markdown",
   "id": "5ef956be",
   "metadata": {},
   "source": [
    "## 3) 속성 추가하기\n",
    "- 클래스 안의 __변수__ <> 매개변수"
   ]
  },
  {
   "cell_type": "code",
   "execution_count": 11,
   "id": "0f43eefd",
   "metadata": {},
   "outputs": [
    {
     "name": "stdout",
     "output_type": "stream",
     "text": [
      "나는 이즈리얼(이)다!\n",
      "----------\n",
      "이름 : 이즈리얼\n",
      "hp : 800\n",
      "----------\n",
      "나는 자르반(이)다!\n",
      "----------\n",
      "이름 : 자르반\n",
      "hp : 300\n",
      "----------\n"
     ]
    }
   ],
   "source": [
    "class Character:\n",
    "    def __init__(self, name, hp):\n",
    "        self.char_name = name #char_name이 속성\n",
    "        self.char_hp = hp #char_hp이 속성\n",
    "    def say(self):\n",
    "        print(f\"나는 {self.char_name}(이)다!\")\n",
    "    def info(self):\n",
    "        print(\"-\" * 10)\n",
    "        print(f\"이름 : {self.char_name}\")\n",
    "        print(f\"hp : {self.char_hp}\")\n",
    "        print(\"-\" * 10)\n",
    "\n",
    "ezreal = Character('이즈리얼',800)\n",
    "ezreal.say()\n",
    "ezreal.info()\n",
    "\n",
    "\n",
    "jarvan = Character('자르반',300)\n",
    "jarvan.say()\n",
    "jarvan.info()"
   ]
  },
  {
   "cell_type": "markdown",
   "id": "1bf5ce70",
   "metadata": {},
   "source": [
    "## 4) 속성과 메서드\n",
    "- 객체.() 있으면 메서드 호출\n",
    "- 객체.() 없으면 속성'값' 추출"
   ]
  },
  {
   "cell_type": "code",
   "execution_count": 12,
   "id": "f86cab2d",
   "metadata": {},
   "outputs": [
    {
     "name": "stdout",
     "output_type": "stream",
     "text": [
      "나는 이즈리얼(이)다!\n"
     ]
    },
    {
     "data": {
      "text/plain": [
       "800"
      ]
     },
     "execution_count": 12,
     "metadata": {},
     "output_type": "execute_result"
    }
   ],
   "source": [
    "ezreal.say() #메서드 호출\n",
    "ezreal.char_hp #속성값 추출"
   ]
  }
 ],
 "metadata": {
  "kernelspec": {
   "display_name": "myenv",
   "language": "python",
   "name": "python3"
  },
  "language_info": {
   "codemirror_mode": {
    "name": "ipython",
    "version": 3
   },
   "file_extension": ".py",
   "mimetype": "text/x-python",
   "name": "python",
   "nbconvert_exporter": "python",
   "pygments_lexer": "ipython3",
   "version": "3.12.8"
  }
 },
 "nbformat": 4,
 "nbformat_minor": 5
}
