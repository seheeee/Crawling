{
 "cells": [
  {
   "cell_type": "code",
   "execution_count": 1,
   "id": "715e2545",
   "metadata": {},
   "outputs": [
    {
     "name": "stdout",
     "output_type": "stream",
     "text": [
      "Collecting pyinstaller\n",
      "  Downloading pyinstaller-6.15.0-py3-none-win_amd64.whl.metadata (8.4 kB)\n",
      "Collecting setuptools>=42.0.0 (from pyinstaller)\n",
      "  Using cached setuptools-80.9.0-py3-none-any.whl.metadata (6.6 kB)\n",
      "Collecting altgraph (from pyinstaller)\n",
      "  Downloading altgraph-0.17.4-py2.py3-none-any.whl.metadata (7.3 kB)\n",
      "Collecting pefile!=2024.8.26,>=2022.5.30 (from pyinstaller)\n",
      "  Downloading pefile-2023.2.7-py3-none-any.whl.metadata (1.4 kB)\n",
      "Collecting pywin32-ctypes>=0.2.1 (from pyinstaller)\n",
      "  Downloading pywin32_ctypes-0.2.3-py3-none-any.whl.metadata (3.9 kB)\n",
      "Collecting pyinstaller-hooks-contrib>=2025.8 (from pyinstaller)\n",
      "  Downloading pyinstaller_hooks_contrib-2025.8-py3-none-any.whl.metadata (16 kB)\n",
      "Requirement already satisfied: packaging>=22.0 in c:\\users\\leo89\\onedrive\\desktop\\sehee\\myenv\\lib\\site-packages (from pyinstaller) (25.0)\n",
      "Downloading pyinstaller-6.15.0-py3-none-win_amd64.whl (1.4 MB)\n",
      "   ---------------------------------------- 0.0/1.4 MB ? eta -:--:--\n",
      "   ---------------------------------------- 1.4/1.4 MB 35.8 MB/s eta 0:00:00\n",
      "Downloading pefile-2023.2.7-py3-none-any.whl (71 kB)\n",
      "Downloading pyinstaller_hooks_contrib-2025.8-py3-none-any.whl (442 kB)\n",
      "Downloading pywin32_ctypes-0.2.3-py3-none-any.whl (30 kB)\n",
      "Using cached setuptools-80.9.0-py3-none-any.whl (1.2 MB)\n",
      "Downloading altgraph-0.17.4-py2.py3-none-any.whl (21 kB)\n",
      "Installing collected packages: altgraph, setuptools, pywin32-ctypes, pefile, pyinstaller-hooks-contrib, pyinstaller\n",
      "Successfully installed altgraph-0.17.4 pefile-2023.2.7 pyinstaller-6.15.0 pyinstaller-hooks-contrib-2025.8 pywin32-ctypes-0.2.3 setuptools-80.9.0\n",
      "Note: you may need to restart the kernel to use updated packages.\n"
     ]
    },
    {
     "name": "stderr",
     "output_type": "stream",
     "text": [
      "\n",
      "[notice] A new release of pip is available: 24.3.1 -> 25.2\n",
      "[notice] To update, run: python.exe -m pip install --upgrade pip\n"
     ]
    }
   ],
   "source": [
    "pip install pyinstaller"
   ]
  },
  {
   "cell_type": "code",
   "execution_count": null,
   "id": "8d7747de",
   "metadata": {},
   "outputs": [],
   "source": [
    "# # 터미널 창에 pyinstaller -w -F '.\\네이버지식인 GUI.py'\n",
    "# -w : 콘솔창 제거\n",
    "# -F : 하나의 exe 파일만 "
   ]
  }
 ],
 "metadata": {
  "kernelspec": {
   "display_name": "myenv",
   "language": "python",
   "name": "python3"
  },
  "language_info": {
   "codemirror_mode": {
    "name": "ipython",
    "version": 3
   },
   "file_extension": ".py",
   "mimetype": "text/x-python",
   "name": "python",
   "nbconvert_exporter": "python",
   "pygments_lexer": "ipython3",
   "version": "3.12.8"
  }
 },
 "nbformat": 4,
 "nbformat_minor": 5
}
