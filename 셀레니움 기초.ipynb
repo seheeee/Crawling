{
 "cells": [
  {
   "cell_type": "markdown",
   "id": "fc896ad5",
   "metadata": {},
   "source": [
    "# 1. 설치"
   ]
  },
  {
   "cell_type": "code",
   "execution_count": 8,
   "id": "5340e4a6",
   "metadata": {},
   "outputs": [],
   "source": [
    "from selenium import webdriver\n",
    "driver = webdriver.Chrome() #웹드라이버 객체생성"
   ]
  },
  {
   "cell_type": "markdown",
   "id": "07376fee",
   "metadata": {},
   "source": [
    "# 2. 기초 조작법"
   ]
  },
  {
   "cell_type": "code",
   "execution_count": 9,
   "id": "91d791ff",
   "metadata": {},
   "outputs": [],
   "source": [
    "driver.get('https://www.naver.com') #원하는 창 이동\n",
    "\n",
    "driver.back() #뒤로가기\n",
    "driver.forward() #앞으로 가기\n",
    "driver.refresh() #새로고침\n",
    "\n",
    "driver.current_url #현재 url 찾기 #리다이렉션(URL강제이동) 시, 최종URL을 확인할 때 유용\n",
    "\n",
    "driver.title #창 title 태그\n",
    "\n",
    "driver.maximize_window() #최대화\n",
    "driver.minimize_window() #최소화\n",
    "\n",
    "# driver.close() #현재창 닫기\n",
    "# driver.quit() #창닫고, driver 종료"
   ]
  },
  {
   "cell_type": "markdown",
   "id": "5ef956be",
   "metadata": {},
   "source": [
    "# 3. 기본템플릿\n",
    "- CSS 선택자로 태그찾기\n",
    "- send_keys 활용법 > WebElement 객체에 텍스트 입력, 키보드 입력"
   ]
  },
  {
   "cell_type": "code",
   "execution_count": null,
   "id": "0f43eefd",
   "metadata": {},
   "outputs": [],
   "source": [
    "from selenium import webdriver\n",
    "from selenium.webdriver.common.by import By\n",
    "from selenium.webdriver.common.keys import Keys\n",
    "\n",
    "driver = webdriver.Chrome()\n",
    "\n",
    "driver.get(\"https://www.naver.com\")\n",
    "\n",
    "srch = driver.find_element(By.CSS_SELECTOR, '#query') #반환된 WebElement 객체를 srch에 할당\n",
    "\n",
    "srch.click()\n",
    "srch.send_keys(\"스타트코딩\")\n",
    "srch.send_keys(Keys.ENTER)"
   ]
  },
  {
   "cell_type": "markdown",
   "id": "1501b481",
   "metadata": {},
   "source": [
    "# 4. 실전 테크닉"
   ]
  },
  {
   "cell_type": "markdown",
   "id": "ed078067",
   "metadata": {},
   "source": [
    "## 1) 여러태그 동시에 제어하기\n",
    "- 공통 부모태그를 이용하여 'CSS선택자'를 '직접' 생성해준다. (기존 우클릭>copy는 단 하나에만 적용 가능)\n",
    "- find_elements로 객체 '리스트'를 가져옴\n",
    "- 반복문을 돌면서 click"
   ]
  },
  {
   "cell_type": "code",
   "execution_count": null,
   "id": "85ba8b3b",
   "metadata": {},
   "outputs": [],
   "source": [
    "#카테고리, 브랜드의 체크박스를 여러개 체크해보기\n",
    "from selenium import webdriver\n",
    "from selenium.webdriver.common.by import By\n",
    "from selenium.webdriver.common.keys import Keys\n",
    "\n",
    "driver = webdriver.Chrome()\n",
    "\n",
    "driver.get(\"https://startcoding.pythonanywhere.com/basic\")\n",
    "\n",
    "labels = driver.find_elements(By.CSS_SELECTOR,'label[for]') #.input-checkbox > label 도 가능\n",
    "\n",
    "import time\n",
    "\n",
    "for label in labels:    \n",
    "    print(label.text, label.get_attribute('for'))\n",
    "    label.click()\n",
    "    time.sleep(1)\n",
    "\n",
    "    #이때, 너무 빠른 속도의 자동화는 문제가 생길 수 있음.\n"
   ]
  },
  {
   "cell_type": "markdown",
   "id": "ad086c08",
   "metadata": {},
   "source": [
    "## 2) 동적대기 기법\n",
    "- 웹페이지 태그가 즉시 로드되지 않고, 일정 동작이나 시간 이후에 나타나는 경우를 처리\n",
    "- implicit Wait() : 암시적 대기, 정한 시간 내에 태그가 있으면 바로 이동, 웹 드라이버 객체에 대해 한번 설정하면 객체가 살아있는 동안은 계속 유효\n",
    "- WebDriverWait, expected_conditions : 명시적 대기, 특정 조건을 만족할 때까지 시도, 웹 드라이버 객체에 대해 한번 설정하면 객체가 살아있는 동안은 계속 유효"
   ]
  },
  {
   "cell_type": "code",
   "execution_count": null,
   "id": "e1aa0a13",
   "metadata": {},
   "outputs": [],
   "source": [
    "from selenium import webdriver\n",
    "from selenium.webdriver.common.by import By\n",
    "from selenium.webdriver.common.keys import Keys\n",
    "\n",
    "driver = webdriver.Chrome()\n",
    "\n",
    "driver.get(\"https://www.naver.com\")\n",
    "\n",
    " #암시적 대기\n",
    "driver.implicitly_wait(10)\n",
    "driver.find_element(By.CSS_SELECTOR, '#query')\n",
    "\n",
    "#명시적 대기\n",
    "from selenium.webdriver.support.ui import WebDriverWait\n",
    "from selenium.webdriver.support import expected_conditions as EC\n",
    "\n",
    "element = WebDriverWait(driver, 5).until(\n",
    "    EC.presence_of_element_located((By.CSS_SELETOR, '#query'))\n",
    ")"
   ]
  },
  {
   "cell_type": "markdown",
   "id": "eb8fa775",
   "metadata": {},
   "source": [
    "## 3) 고급입력 컨트롤"
   ]
  },
  {
   "cell_type": "code",
   "execution_count": 5,
   "id": "7eea9cae",
   "metadata": {},
   "outputs": [],
   "source": [
    "from selenium import webdriver\n",
    "from selenium.webdriver.common.by import By\n",
    "from selenium.webdriver.common.keys import Keys\n",
    "\n",
    "driver = webdriver.Chrome()\n",
    "\n",
    "driver.get(\"https://www.naver.com\")\n"
   ]
  },
  {
   "cell_type": "code",
   "execution_count": null,
   "id": "382923b3",
   "metadata": {},
   "outputs": [],
   "source": [
    "\n",
    "# 입력값 삭제 > 객체.clear\n",
    "search = driver.find_element(By.CSS_SELECTOR, '#query')\n",
    "search.send_keys('스타트코딩')\n",
    "search.clear()\n",
    "\n",
    "# (중요) 순차적 키 입력 > 객체.send_keys()\n",
    "search.send_keys('스타트코딩')\n",
    "search.send_keys(Keys.CONTROL, \"a\")\n",
    "search.send_keys(Keys.CONTROL, \"c\")\n",
    "search.send_keys(Keys.CONTROL, \"v\")\n",
    "search.clear()\n",
    "\n",
    "search.send_keys('스타트코딩', Keys.ENTER)\n",
    "\n",
    "#tab으로 텍스트박스간 이동도 가능함\n",
    "search.send_keys('검색어', Keys.TAB, '검색어2')\n"
   ]
  },
  {
   "cell_type": "markdown",
   "id": "0f613797",
   "metadata": {},
   "source": [
    "## 4) 셀렉트박스 조작\n",
    "- SELECT 태그로 구성 > 자식 태그로 option 태그, value 속성이 있음\n",
    "- 주의\n",
    "    - CSS 선택자(option태그)로 선택하게 되면 태그의 위치가 바뀌면 동작하지 않을 수 있음, 가독성, 유지보수 어려움\n",
    "    - 대신, Select 클래스로 사용\n",
    "- 단계\n",
    "    - 1) WebElement 객체 찾기\n",
    "    - 2) WebElement 객체를 Select 객체로 변환시키기\n",
    "    - 3) Select 객체로 원하는 값을 선택"
   ]
  },
  {
   "cell_type": "code",
   "execution_count": 1,
   "id": "45535627",
   "metadata": {},
   "outputs": [],
   "source": [
    "from selenium import webdriver\n",
    "from selenium.webdriver.common.by import By\n",
    "\n",
    "driver = webdriver.Chrome()\n",
    "\n",
    "driver.get(\"https://finance.naver.com/research/company_list.naver\")"
   ]
  },
  {
   "cell_type": "code",
   "execution_count": 6,
   "id": "1e3afa7f",
   "metadata": {},
   "outputs": [],
   "source": [
    "# select 태그찾기 #contentarea_left > form > fieldset > ul > li:nth-child(2) > select\n",
    "select_tag = driver.find_element(By.CSS_SELECTOR, '#contentarea_left > form > fieldset > ul > li:nth-child(2) > select')\n",
    "\n",
    "from selenium.webdriver.support.select import Select\n",
    "# Select 객체로 변환 : Select(select_tag)\n",
    "# 인덱스로 선택 : 시작번호는 0\n",
    "Select(select_tag).select_by_index(2)\n",
    "# value 속성값으로 선택 : 언제나 문자열로 데이터 전달\n",
    "Select(select_tag).select_by_value('40')\n",
    "# 보이는 텍스트로 선택\n",
    "Select(select_tag).select_by_visible_text('다올투자증권')"
   ]
  },
  {
   "cell_type": "markdown",
   "id": "b37fb983",
   "metadata": {},
   "source": [
    "## 5) (중요) 여러페이지 관리방법\n",
    "- 페이지 안에 다른 페이지가 있는 경우 (iframe 제어방법)\n",
    "    - 웹드라이버는 한번에 하나의 페이지만 제어할 수 있음 ***\n",
    "    - 서브페이지를 바라보도록 드라이버를 전환 시킨 후, 서브페이지 제어\n",
    "    - 1. iframe 태그를 찾는다. 2. iframe 태그 객체 생성 3. 드라이버 전환 4.(필요시) 원래 페이지로 전환\n",
    "\n",
    "- 새로운 창 제어(창이 여러개 뜰 때)\n",
    "    1. 현재 드라이버가 가지고 있는 창 목록을 리스트 형태로 반환\n",
    "    2. 새로운 창으로 전환\n"
   ]
  }
 ],
 "metadata": {
  "kernelspec": {
   "display_name": "myenv",
   "language": "python",
   "name": "python3"
  },
  "language_info": {
   "codemirror_mode": {
    "name": "ipython",
    "version": 3
   },
   "file_extension": ".py",
   "mimetype": "text/x-python",
   "name": "python",
   "nbconvert_exporter": "python",
   "pygments_lexer": "ipython3",
   "version": "3.12.8"
  }
 },
 "nbformat": 4,
 "nbformat_minor": 5
}
