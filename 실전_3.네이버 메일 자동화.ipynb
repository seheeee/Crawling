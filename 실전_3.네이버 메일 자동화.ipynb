{
 "cells": [
  {
   "cell_type": "markdown",
   "id": "fc896ad5",
   "metadata": {},
   "source": [
    "# 실전크롤링 - 3. 네이버 메일 자동화\n",
    "- 1. 로그인 2. 메일작성 3. 전송"
   ]
  },
  {
   "cell_type": "markdown",
   "id": "1501b481",
   "metadata": {},
   "source": [
    "# 1. 로그인"
   ]
  },
  {
   "cell_type": "markdown",
   "id": "00c18b72",
   "metadata": {},
   "source": [
    "## 1) 자동입력 방지문자 발생"
   ]
  },
  {
   "cell_type": "code",
   "execution_count": null,
   "id": "71e3ef0a",
   "metadata": {},
   "outputs": [
    {
     "name": "stderr",
     "output_type": "stream",
     "text": [
      "<>:23: SyntaxWarning: invalid escape sequence '\\.'\n",
      "<>:23: SyntaxWarning: invalid escape sequence '\\.'\n",
      "C:\\Users\\leo89\\AppData\\Local\\Temp\\ipykernel_12192\\1302535643.py:23: SyntaxWarning: invalid escape sequence '\\.'\n",
      "  login = driver.find_element(By.CSS_SELECTOR, '#log\\.login')\n"
     ]
    }
   ],
   "source": [
    "from selenium import webdriver\n",
    "from selenium.webdriver.common.by import By\n",
    "from selenium.webdriver.common.keys import Keys\n",
    "import time\n",
    "\n",
    "user_id = 'psehee617'\n",
    "user_pw = 'Wpdl0404~~'\n",
    "driver = webdriver.Chrome()\n",
    "\n",
    "driver.get(\"https://www.naver.com/\")\n",
    "login = driver.find_element(By.CSS_SELECTOR, '#account > div > a')\n",
    "login.click()\n",
    "\n",
    "time.sleep(1)\n",
    "\n",
    "#id\n",
    "id_box = driver.find_element(By.CSS_SELECTOR, '#id')\n",
    "id_box.send_keys(user_id)\n",
    "time.sleep(1)\n",
    "pw_box = driver.find_element(By.CSS_SELECTOR, '#pw')\n",
    "pw_box.send_keys(user_pw)\n",
    "time.sleep(1)\n",
    "login = driver.find_element(By.CSS_SELECTOR, '#log\\\\.login') #escape 문자 \\\\ 두개\n",
    "login.click()"
   ]
  },
  {
   "cell_type": "markdown",
   "id": "665159db",
   "metadata": {},
   "source": [
    "## 2) 로그인 우회\n",
    "- id, pw를 send_keys로 입력해서 자동입력방지가 뜨는 것\n",
    "- 복사, 붙여넣기 기능으로 우회 가능 > pyperclip"
   ]
  },
  {
   "cell_type": "code",
   "execution_count": 2,
   "id": "4ebaa552",
   "metadata": {},
   "outputs": [],
   "source": [
    "from selenium import webdriver\n",
    "from selenium.webdriver.common.by import By\n",
    "from selenium.webdriver.common.keys import Keys\n",
    "import time\n",
    "import pyperclip\n",
    "\n",
    "user_id = 'psehee617'\n",
    "user_pw = 'Wpdl0404~~'\n",
    "driver = webdriver.Chrome()\n",
    "\n",
    "driver.get(\"https://www.naver.com/\")\n",
    "login = driver.find_element(By.CSS_SELECTOR, '#account > div > a')\n",
    "login.click()\n",
    "\n",
    "time.sleep(1)\n",
    "\n",
    "#id\n",
    "id_box = driver.find_element(By.CSS_SELECTOR, '#id')\n",
    "pyperclip.copy(user_id) #복사\n",
    "id_box.send_keys(Keys.CONTROL, 'v') #붙여넣기\n",
    "time.sleep(1)\n",
    "\n",
    "pw_box = driver.find_element(By.CSS_SELECTOR, '#pw')\n",
    "pyperclip.copy(user_pw) #복사\n",
    "pw_box.send_keys(Keys.CONTROL, 'v') #붙여넣기\n",
    "time.sleep(1)\n",
    "\n",
    "login = driver.find_element(By.CSS_SELECTOR, '#log\\\\.login') #escape 문자 \\\\ 두개\n",
    "login.click()"
   ]
  },
  {
   "cell_type": "markdown",
   "id": "095d08eb",
   "metadata": {},
   "source": [
    "# 2. 메일 자동화"
   ]
  },
  {
   "cell_type": "code",
   "execution_count": null,
   "id": "e7a84ca0",
   "metadata": {},
   "outputs": [],
   "source": [
    "#메일함 들어가기\n",
    "mail = driver.find_element(By.CSS_SELECTOR,'#account > div.MyView-module__my_menu___eF24q > div > div > ul > li:nth-child(1) > a > span')\n",
    "mail.click()\n",
    "time.sleep(1)\n",
    "\n",
    "mail = driver.find_element(By.CSS_SELECTOR,'#account > div.MyView-module__layer_menu_service___NqMyX > div.MyView-module__service_sub___wix9p > div.MyView-module__sub_left___AIWHR > a')\n",
    "mail.click()\n",
    "time.sleep(1)\n",
    "\n",
    "# \"새로운 창\"으로 전환 필요 (driver는 한번에 하나의 창만 제어할 수 있다는 것을 명심 !)\n",
    "driver.window_handles #현재 열려있는창 list\n",
    "driver.switch_to.window(driver.window_handles[1])\n",
    "\n",
    "#(tips) 현재제어하는 창 하나만 닫고 싶을 때\n",
    "# driver.close() #quit는 전체 닫기\n",
    "\n",
    "# 메일쓰기\n",
    "write = driver.find_element(By.CSS_SELECTOR, '#root > div > nav > div > div.lnb_header > div.lnb_task > a.item.button_write')\n",
    "write.click()\n",
    "time.sleep(1)\n",
    "\n",
    "to = driver.find_element(By.CSS_SELECTOR,'#recipient_input_element')\n",
    "to.send_keys('sehee617@naver.com')\n",
    "\n",
    "title = driver.find_element(By.CSS_SELECTOR,'#subject_title')\n",
    "title.send_keys('인프런 크롤링 테스트 메일입니다.')\n",
    "\n",
    "iframe = driver.find_element(By.CSS_SELECTOR, '#content > div.contents_area > div > div.editor_area > div > div.editor_body > iframe')\n",
    "driver.switch_to.frame(iframe)\n",
    "text = driver.find_element(By.CSS_SELECTOR, 'body > div > div.workseditor-body > div.workseditor-content')\n",
    "text.send_keys('안녕하세요. 박세희입니다.')\n",
    "\n",
    "#보내기\n",
    "driver.switch_to.default_content()\n",
    "send = driver.find_element(By.CSS_SELECTOR, '#content > div.mail_toolbar.type_write > div:nth-child(1) > div > button.button_write_task')\n",
    "send.click()"
   ]
  }
 ],
 "metadata": {
  "kernelspec": {
   "display_name": "myenv",
   "language": "python",
   "name": "python3"
  },
  "language_info": {
   "codemirror_mode": {
    "name": "ipython",
    "version": 3
   },
   "file_extension": ".py",
   "mimetype": "text/x-python",
   "name": "python",
   "nbconvert_exporter": "python",
   "pygments_lexer": "ipython3",
   "version": "3.12.8"
  }
 },
 "nbformat": 4,
 "nbformat_minor": 5
}
